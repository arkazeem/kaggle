{
 "cells": [
  {
   "cell_type": "markdown",
   "id": "c379113b",
   "metadata": {
    "papermill": {
     "duration": 0.004607,
     "end_time": "2024-12-23T14:46:23.805433",
     "exception": false,
     "start_time": "2024-12-23T14:46:23.800826",
     "status": "completed"
    },
    "tags": []
   },
   "source": [
    "### Memory Optimised Baseline Model (XGB) - Jane Street ###\n",
    "In this notebook, we build an **XGBoost** model for forecasting on the Jane Street dataset while keeping our memory footprint as low as possible.  \n",
    "\n",
    "These optimisations help ensure that we stay within Kaggle’s memory limits while still being able to train a robust model.\n"
   ]
  },
  {
   "cell_type": "markdown",
   "id": "334d7515",
   "metadata": {
    "papermill": {
     "duration": 0.003539,
     "end_time": "2024-12-23T14:46:23.812860",
     "exception": false,
     "start_time": "2024-12-23T14:46:23.809321",
     "status": "completed"
    },
    "tags": []
   },
   "source": [
    "#### Baseline notebooks:\n",
    "Preprocessing : https://www.kaggle.com/code/motono0223/js24-preprocessing-create-lags\n",
    "Training (Code only) : this notebook https://www.kaggle.com/code/motono0223/js24-train-gbdt-model-with-lags-singlemodel\n",
    "trained model : https://www.kaggle.com/datasets/motono0223/js24-trained-gbdt-model\n",
    "Inference : https://www.kaggle.com/code/motono0223/js24-inference-gbdt-with-lags-singlemodel\n",
    "https://www.kaggle.com/code/zoutain/xgb-baseline-from-train-to-submit\n",
    "https://www.kaggle.com/code/regisvargas/jane-street-a-beginner-s-notebook"
   ]
  },
  {
   "cell_type": "code",
   "execution_count": 1,
   "id": "3aa89e79",
   "metadata": {
    "execution": {
     "iopub.execute_input": "2024-12-23T14:46:23.821605Z",
     "iopub.status.busy": "2024-12-23T14:46:23.821275Z",
     "iopub.status.idle": "2024-12-23T14:46:26.190478Z",
     "shell.execute_reply": "2024-12-23T14:46:26.189575Z"
    },
    "papermill": {
     "duration": 2.375917,
     "end_time": "2024-12-23T14:46:26.192472",
     "exception": false,
     "start_time": "2024-12-23T14:46:23.816555",
     "status": "completed"
    },
    "tags": []
   },
   "outputs": [],
   "source": [
    "import pandas as pd\n",
    "import polars as pl\n",
    "import numpy as np\n",
    "import os\n",
    "from tqdm.auto import tqdm\n",
    "import pickle\n",
    "import gc \n",
    "from sklearn.metrics import r2_score\n",
    "from xgboost import XGBRegressor\n",
    "\n",
    "import warnings\n",
    "warnings.filterwarnings('ignore')\n",
    "pd.options.display.max_columns = None\n"
   ]
  },
  {
   "cell_type": "code",
   "execution_count": 2,
   "id": "58661568",
   "metadata": {
    "execution": {
     "iopub.execute_input": "2024-12-23T14:46:26.202560Z",
     "iopub.status.busy": "2024-12-23T14:46:26.202159Z",
     "iopub.status.idle": "2024-12-23T14:46:26.207275Z",
     "shell.execute_reply": "2024-12-23T14:46:26.206568Z"
    },
    "papermill": {
     "duration": 0.012351,
     "end_time": "2024-12-23T14:46:26.208838",
     "exception": false,
     "start_time": "2024-12-23T14:46:26.196487",
     "status": "completed"
    },
    "tags": []
   },
   "outputs": [],
   "source": [
    "class CONFIG:\n",
    "    seed = 42\n",
    "    target_col = \"responder_6\"\n",
    "    feature_cols = [\"symbol_id\", \"time_id\"] \\\n",
    "        + [f\"feature_{idx:02d}\" for idx in range(79)] \\\n",
    "        + [f\"responder_{idx}_lag_1\" for idx in range(9)]\n",
    "    categorical_cols = []\n",
    "    lag_cols_original = [\"date_id\", \"symbol_id\"] + [f\"responder_{idx}\" for idx in range(9)]\n",
    "    lag_cols_rename = { f\"responder_{idx}\" : f\"responder_{idx}_lag_1\" for idx in range(9)}\n",
    "    valid_ratio = 0.05\n",
    "    start_dt = 1100"
   ]
  },
  {
   "cell_type": "markdown",
   "id": "dbde627d",
   "metadata": {
    "papermill": {
     "duration": 0.003579,
     "end_time": "2024-12-23T14:46:26.216110",
     "exception": false,
     "start_time": "2024-12-23T14:46:26.212531",
     "status": "completed"
    },
    "tags": []
   },
   "source": [
    "## **Loading & Lazy Scanning**  \n",
    "- **Polars** `scan_parquet` is used instead of `read_parquet` to enable lazy operations.  \n",
    "- Only when `.collect()` is called does the data actually load into memory.  \n",
    "- We also cast some columns to more memory-efficient types (like `Int32` in Polars).  "
   ]
  },
  {
   "cell_type": "code",
   "execution_count": 3,
   "id": "6ea5a552",
   "metadata": {
    "execution": {
     "iopub.execute_input": "2024-12-23T14:46:26.224514Z",
     "iopub.status.busy": "2024-12-23T14:46:26.224264Z",
     "iopub.status.idle": "2024-12-23T14:46:26.255165Z",
     "shell.execute_reply": "2024-12-23T14:46:26.254475Z"
    },
    "papermill": {
     "duration": 0.036865,
     "end_time": "2024-12-23T14:46:26.256751",
     "exception": false,
     "start_time": "2024-12-23T14:46:26.219886",
     "status": "completed"
    },
    "tags": []
   },
   "outputs": [],
   "source": [
    "train = pl.scan_parquet(f\"/kaggle/input/jane-street-real-time-market-data-forecasting/train.parquet\"\n",
    ").select(pl.int_range(pl.len(), dtype=pl.UInt32).alias(\"id\"),pl.all(),\n",
    ").with_columns((pl.col(CONFIG.target_col)*2).cast(pl.Int32).alias(\"label\")).filter(pl.col(\"date_id\").gt(CONFIG.start_dt))"
   ]
  },
  {
   "cell_type": "code",
   "execution_count": 4,
   "id": "b7d5523c",
   "metadata": {
    "execution": {
     "iopub.execute_input": "2024-12-23T14:46:26.265441Z",
     "iopub.status.busy": "2024-12-23T14:46:26.265192Z",
     "iopub.status.idle": "2024-12-23T14:46:26.269632Z",
     "shell.execute_reply": "2024-12-23T14:46:26.268831Z"
    },
    "papermill": {
     "duration": 0.010626,
     "end_time": "2024-12-23T14:46:26.271239",
     "exception": false,
     "start_time": "2024-12-23T14:46:26.260613",
     "status": "completed"
    },
    "tags": []
   },
   "outputs": [],
   "source": [
    "lags = train.select(pl.col(CONFIG.lag_cols_original))\n",
    "lags = lags.rename(CONFIG.lag_cols_rename)\n",
    "lags = lags.with_columns(date_id = pl.col('date_id') + 1,  # lagged by 1 day\n",
    "                        )\n",
    "lags = lags.group_by([\"date_id\", \"symbol_id\"], maintain_order=True).last()  # pick up last record of previous date"
   ]
  },
  {
   "cell_type": "markdown",
   "id": "fd1569fc",
   "metadata": {
    "papermill": {
     "duration": 0.003494,
     "end_time": "2024-12-23T14:46:26.278403",
     "exception": false,
     "start_time": "2024-12-23T14:46:26.274909",
     "status": "completed"
    },
    "tags": []
   },
   "source": [
    "## **Join Lagged Data**  \n",
    "We now join the lagged features back into our main training dataset. Since we’re using Polars lazy mode, these transformations won’t immediately materialize in memory."
   ]
  },
  {
   "cell_type": "code",
   "execution_count": 5,
   "id": "87ca1c8d",
   "metadata": {
    "execution": {
     "iopub.execute_input": "2024-12-23T14:46:26.286766Z",
     "iopub.status.busy": "2024-12-23T14:46:26.286522Z",
     "iopub.status.idle": "2024-12-23T14:46:26.570959Z",
     "shell.execute_reply": "2024-12-23T14:46:26.570141Z"
    },
    "papermill": {
     "duration": 0.290863,
     "end_time": "2024-12-23T14:46:26.572913",
     "exception": false,
     "start_time": "2024-12-23T14:46:26.282050",
     "status": "completed"
    },
    "tags": []
   },
   "outputs": [
    {
     "data": {
      "text/html": [
       "<h4>NAIVE QUERY PLAN</h4><p>run <b>LazyFrame.show_graph()</b> to see the optimized version</p><?xml version=\"1.0\" encoding=\"UTF-8\" standalone=\"no\"?>\n",
       "<!DOCTYPE svg PUBLIC \"-//W3C//DTD SVG 1.1//EN\"\n",
       " \"http://www.w3.org/Graphics/SVG/1.1/DTD/svg11.dtd\">\n",
       "<!-- Generated by graphviz version 12.0.0 (20240803.0821)\n",
       " -->\n",
       "<!-- Title: polars_query Pages: 1 -->\n",
       "<svg width=\"2771pt\" height=\"681pt\"\n",
       " viewBox=\"0.00 0.00 2771.25 680.50\" xmlns=\"http://www.w3.org/2000/svg\" xmlns:xlink=\"http://www.w3.org/1999/xlink\">\n",
       "<g id=\"graph0\" class=\"graph\" transform=\"scale(1 1) rotate(0) translate(4 676.5)\">\n",
       "<title>polars_query</title>\n",
       "<polygon fill=\"white\" stroke=\"none\" points=\"-4,4 -4,-676.5 2767.25,-676.5 2767.25,4 -4,4\"/>\n",
       "<!-- p1 -->\n",
       "<g id=\"node1\" class=\"node\">\n",
       "<title>p1</title>\n",
       "<polygon fill=\"none\" stroke=\"black\" points=\"1254.12,-672.5 962.88,-672.5 962.88,-612.75 1254.12,-612.75 1254.12,-672.5\"/>\n",
       "<text text-anchor=\"middle\" x=\"1108.5\" y=\"-655.2\" font-family=\"Times,serif\" font-size=\"14.00\">JOIN LEFT</text>\n",
       "<text text-anchor=\"middle\" x=\"1108.5\" y=\"-637.95\" font-family=\"Times,serif\" font-size=\"14.00\">left: [col(&quot;date_id&quot;), col(&quot;symbol_id&quot;)];</text>\n",
       "<text text-anchor=\"middle\" x=\"1108.5\" y=\"-620.7\" font-family=\"Times,serif\" font-size=\"14.00\">right: [col(&quot;date_id&quot;), col(&quot;symbol_id&quot;)]</text>\n",
       "</g>\n",
       "<!-- p2 -->\n",
       "<g id=\"node2\" class=\"node\">\n",
       "<title>p2</title>\n",
       "<polygon fill=\"none\" stroke=\"black\" points=\"645.25,-564.88 363.75,-564.88 363.75,-528.88 645.25,-528.88 645.25,-564.88\"/>\n",
       "<text text-anchor=\"middle\" x=\"504.5\" y=\"-542.2\" font-family=\"Times,serif\" font-size=\"14.00\">FILTER BY [(col(&quot;date_id&quot;)) &gt; (1100)]</text>\n",
       "</g>\n",
       "<!-- p1&#45;&#45;p2 -->\n",
       "<g id=\"edge1\" class=\"edge\">\n",
       "<title>p1&#45;&#45;p2</title>\n",
       "<path fill=\"none\" stroke=\"black\" d=\"M962.54,-622.59C873.39,-610.51 757.17,-593.96 654.5,-576.75 633.97,-573.31 611.92,-569.26 591.23,-565.31\"/>\n",
       "</g>\n",
       "<!-- p6 -->\n",
       "<g id=\"node6\" class=\"node\">\n",
       "<title>p6</title>\n",
       "<polygon fill=\"none\" stroke=\"black\" points=\"2763.25,-576.75 663.75,-576.75 663.75,-517 2763.25,-517 2763.25,-576.75\"/>\n",
       "<text text-anchor=\"middle\" x=\"1713.5\" y=\"-559.45\" font-family=\"Times,serif\" font-size=\"14.00\">AGG [col(&quot;responder_0_lag_1&quot;).last(), col(&quot;responder_1_lag_1&quot;).last(), col(&quot;responder_2_lag_1&quot;).last(), col(&quot;responder_3_lag_1&quot;).last(), col(&quot;responder_4_lag_1&quot;).last(), col(&quot;responder_5_lag_1&quot;).last(), col(&quot;responder_6_lag_1&quot;).last(), col(&quot;responder_7_lag_1&quot;).last(), col(&quot;responder_8_lag_1&quot;).last()]</text>\n",
       "<text text-anchor=\"middle\" x=\"1713.5\" y=\"-542.2\" font-family=\"Times,serif\" font-size=\"14.00\">BY</text>\n",
       "<text text-anchor=\"middle\" x=\"1713.5\" y=\"-524.95\" font-family=\"Times,serif\" font-size=\"14.00\">[col(&quot;date_id&quot;), col(&quot;symbol_id&quot;)]</text>\n",
       "</g>\n",
       "<!-- p1&#45;&#45;p6 -->\n",
       "<g id=\"edge5\" class=\"edge\">\n",
       "<title>p1&#45;&#45;p6</title>\n",
       "<path fill=\"none\" stroke=\"black\" d=\"M1254.57,-618.99C1335.52,-606.45 1437.09,-590.71 1524.08,-577.23\"/>\n",
       "</g>\n",
       "<!-- p3 -->\n",
       "<g id=\"node3\" class=\"node\">\n",
       "<title>p3</title>\n",
       "<polygon fill=\"none\" stroke=\"black\" points=\"794.5,-481 214.5,-481 214.5,-445 794.5,-445 794.5,-481\"/>\n",
       "<text text-anchor=\"middle\" x=\"504.5\" y=\"-458.32\" font-family=\"Times,serif\" font-size=\"14.00\">WITH COLUMNS [[(col(&quot;responder_6&quot;)) * (2.0)].strict_cast(Int32).alias(&quot;label&quot;)]</text>\n",
       "</g>\n",
       "<!-- p2&#45;&#45;p3 -->\n",
       "<g id=\"edge2\" class=\"edge\">\n",
       "<title>p2&#45;&#45;p3</title>\n",
       "<path fill=\"none\" stroke=\"black\" d=\"M504.5,-528.51C504.5,-514.62 504.5,-495.23 504.5,-481.34\"/>\n",
       "</g>\n",
       "<!-- p4 -->\n",
       "<g id=\"node4\" class=\"node\">\n",
       "<title>p4</title>\n",
       "<polygon fill=\"none\" stroke=\"black\" points=\"539.5,-409 469.5,-409 469.5,-373 539.5,-373 539.5,-409\"/>\n",
       "<text text-anchor=\"middle\" x=\"504.5\" y=\"-386.32\" font-family=\"Times,serif\" font-size=\"14.00\">π 94/94</text>\n",
       "</g>\n",
       "<!-- p3&#45;&#45;p4 -->\n",
       "<g id=\"edge3\" class=\"edge\">\n",
       "<title>p3&#45;&#45;p4</title>\n",
       "<path fill=\"none\" stroke=\"black\" d=\"M504.5,-444.7C504.5,-433.85 504.5,-419.92 504.5,-409.1\"/>\n",
       "</g>\n",
       "<!-- p5 -->\n",
       "<g id=\"node5\" class=\"node\">\n",
       "<title>p5</title>\n",
       "<polygon fill=\"none\" stroke=\"black\" points=\"1009,-337 0,-337 0,-294.5 1009,-294.5 1009,-337\"/>\n",
       "<text text-anchor=\"middle\" x=\"504.5\" y=\"-319.7\" font-family=\"Times,serif\" font-size=\"14.00\">Parquet SCAN [/kaggle/input/jane&#45;street&#45;real&#45;time&#45;market&#45;data&#45;forecasting/train.parquet/partition_id=0/part&#45;0.parquet, ... 9 other sources]</text>\n",
       "<text text-anchor=\"middle\" x=\"504.5\" y=\"-302.45\" font-family=\"Times,serif\" font-size=\"14.00\">π */93;</text>\n",
       "</g>\n",
       "<!-- p4&#45;&#45;p5 -->\n",
       "<g id=\"edge4\" class=\"edge\">\n",
       "<title>p4&#45;&#45;p5</title>\n",
       "<path fill=\"none\" stroke=\"black\" d=\"M504.5,-372.64C504.5,-362.06 504.5,-348.49 504.5,-337.37\"/>\n",
       "</g>\n",
       "<!-- p7 -->\n",
       "<g id=\"node7\" class=\"node\">\n",
       "<title>p7</title>\n",
       "<polygon fill=\"none\" stroke=\"black\" points=\"1925.88,-481 1501.12,-481 1501.12,-445 1925.88,-445 1925.88,-481\"/>\n",
       "<text text-anchor=\"middle\" x=\"1713.5\" y=\"-458.32\" font-family=\"Times,serif\" font-size=\"14.00\">WITH COLUMNS [[(col(&quot;date_id&quot;)) + (1)].alias(&quot;date_id&quot;)]</text>\n",
       "</g>\n",
       "<!-- p6&#45;&#45;p7 -->\n",
       "<g id=\"edge6\" class=\"edge\">\n",
       "<title>p6&#45;&#45;p7</title>\n",
       "<path fill=\"none\" stroke=\"black\" d=\"M1713.5,-516.78C1713.5,-504.83 1713.5,-491.4 1713.5,-481.09\"/>\n",
       "</g>\n",
       "<!-- p8 -->\n",
       "<g id=\"node8\" class=\"node\">\n",
       "<title>p8</title>\n",
       "<polygon fill=\"none\" stroke=\"black\" points=\"1755.25,-409 1671.75,-409 1671.75,-373 1755.25,-373 1755.25,-409\"/>\n",
       "<text text-anchor=\"middle\" x=\"1713.5\" y=\"-386.32\" font-family=\"Times,serif\" font-size=\"14.00\">RENAME</text>\n",
       "</g>\n",
       "<!-- p7&#45;&#45;p8 -->\n",
       "<g id=\"edge7\" class=\"edge\">\n",
       "<title>p7&#45;&#45;p8</title>\n",
       "<path fill=\"none\" stroke=\"black\" d=\"M1713.5,-444.7C1713.5,-433.85 1713.5,-419.92 1713.5,-409.1\"/>\n",
       "</g>\n",
       "<!-- p9 -->\n",
       "<g id=\"node9\" class=\"node\">\n",
       "<title>p9</title>\n",
       "<polygon fill=\"none\" stroke=\"black\" points=\"1748.5,-333.75 1678.5,-333.75 1678.5,-297.75 1748.5,-297.75 1748.5,-333.75\"/>\n",
       "<text text-anchor=\"middle\" x=\"1713.5\" y=\"-311.07\" font-family=\"Times,serif\" font-size=\"14.00\">π 11/11</text>\n",
       "</g>\n",
       "<!-- p8&#45;&#45;p9 -->\n",
       "<g id=\"edge8\" class=\"edge\">\n",
       "<title>p8&#45;&#45;p9</title>\n",
       "<path fill=\"none\" stroke=\"black\" d=\"M1713.5,-372.64C1713.5,-361.05 1713.5,-345.86 1713.5,-334.24\"/>\n",
       "</g>\n",
       "<!-- p10 -->\n",
       "<g id=\"node10\" class=\"node\">\n",
       "<title>p10</title>\n",
       "<polygon fill=\"none\" stroke=\"black\" points=\"1854.25,-258.5 1572.75,-258.5 1572.75,-222.5 1854.25,-222.5 1854.25,-258.5\"/>\n",
       "<text text-anchor=\"middle\" x=\"1713.5\" y=\"-235.82\" font-family=\"Times,serif\" font-size=\"14.00\">FILTER BY [(col(&quot;date_id&quot;)) &gt; (1100)]</text>\n",
       "</g>\n",
       "<!-- p9&#45;&#45;p10 -->\n",
       "<g id=\"edge9\" class=\"edge\">\n",
       "<title>p9&#45;&#45;p10</title>\n",
       "<path fill=\"none\" stroke=\"black\" d=\"M1713.5,-297.39C1713.5,-285.8 1713.5,-270.61 1713.5,-258.99\"/>\n",
       "</g>\n",
       "<!-- p11 -->\n",
       "<g id=\"node11\" class=\"node\">\n",
       "<title>p11</title>\n",
       "<polygon fill=\"none\" stroke=\"black\" points=\"2003.5,-186.5 1423.5,-186.5 1423.5,-150.5 2003.5,-150.5 2003.5,-186.5\"/>\n",
       "<text text-anchor=\"middle\" x=\"1713.5\" y=\"-163.82\" font-family=\"Times,serif\" font-size=\"14.00\">WITH COLUMNS [[(col(&quot;responder_6&quot;)) * (2.0)].strict_cast(Int32).alias(&quot;label&quot;)]</text>\n",
       "</g>\n",
       "<!-- p10&#45;&#45;p11 -->\n",
       "<g id=\"edge10\" class=\"edge\">\n",
       "<title>p10&#45;&#45;p11</title>\n",
       "<path fill=\"none\" stroke=\"black\" d=\"M1713.5,-222.2C1713.5,-211.35 1713.5,-197.42 1713.5,-186.6\"/>\n",
       "</g>\n",
       "<!-- p12 -->\n",
       "<g id=\"node12\" class=\"node\">\n",
       "<title>p12</title>\n",
       "<polygon fill=\"none\" stroke=\"black\" points=\"1748.5,-114.5 1678.5,-114.5 1678.5,-78.5 1748.5,-78.5 1748.5,-114.5\"/>\n",
       "<text text-anchor=\"middle\" x=\"1713.5\" y=\"-91.83\" font-family=\"Times,serif\" font-size=\"14.00\">π 94/94</text>\n",
       "</g>\n",
       "<!-- p11&#45;&#45;p12 -->\n",
       "<g id=\"edge11\" class=\"edge\">\n",
       "<title>p11&#45;&#45;p12</title>\n",
       "<path fill=\"none\" stroke=\"black\" d=\"M1713.5,-150.2C1713.5,-139.35 1713.5,-125.42 1713.5,-114.6\"/>\n",
       "</g>\n",
       "<!-- p13 -->\n",
       "<g id=\"node13\" class=\"node\">\n",
       "<title>p13</title>\n",
       "<polygon fill=\"none\" stroke=\"black\" points=\"2218,-42.5 1209,-42.5 1209,0 2218,0 2218,-42.5\"/>\n",
       "<text text-anchor=\"middle\" x=\"1713.5\" y=\"-25.2\" font-family=\"Times,serif\" font-size=\"14.00\">Parquet SCAN [/kaggle/input/jane&#45;street&#45;real&#45;time&#45;market&#45;data&#45;forecasting/train.parquet/partition_id=0/part&#45;0.parquet, ... 9 other sources]</text>\n",
       "<text text-anchor=\"middle\" x=\"1713.5\" y=\"-7.95\" font-family=\"Times,serif\" font-size=\"14.00\">π */93;</text>\n",
       "</g>\n",
       "<!-- p12&#45;&#45;p13 -->\n",
       "<g id=\"edge12\" class=\"edge\">\n",
       "<title>p12&#45;&#45;p13</title>\n",
       "<path fill=\"none\" stroke=\"black\" d=\"M1713.5,-78.14C1713.5,-67.56 1713.5,-53.99 1713.5,-42.87\"/>\n",
       "</g>\n",
       "</g>\n",
       "</svg>\n"
      ],
      "text/plain": [
       "<LazyFrame at 0x7BAAB8F51570>"
      ]
     },
     "execution_count": 5,
     "metadata": {},
     "output_type": "execute_result"
    }
   ],
   "source": [
    "train = train.join(lags, on=[\"date_id\", \"symbol_id\"],  how=\"left\")\n",
    "train"
   ]
  },
  {
   "cell_type": "markdown",
   "id": "5cbb01e9",
   "metadata": {
    "papermill": {
     "duration": 0.003908,
     "end_time": "2024-12-23T14:46:26.581158",
     "exception": false,
     "start_time": "2024-12-23T14:46:26.577250",
     "status": "completed"
    },
    "tags": []
   },
   "source": [
    "## **Train/Validation Split**  \n",
    "- We compute the total length of the dataset and split based on `valid_ratio`.  \n",
    "- **Note**: All of these are still lazy until we call `.collect()`."
   ]
  },
  {
   "cell_type": "code",
   "execution_count": 6,
   "id": "b0cb2454",
   "metadata": {
    "execution": {
     "iopub.execute_input": "2024-12-23T14:46:26.590114Z",
     "iopub.status.busy": "2024-12-23T14:46:26.589834Z",
     "iopub.status.idle": "2024-12-23T14:46:29.654275Z",
     "shell.execute_reply": "2024-12-23T14:46:29.653362Z"
    },
    "papermill": {
     "duration": 3.07133,
     "end_time": "2024-12-23T14:46:29.656357",
     "exception": false,
     "start_time": "2024-12-23T14:46:26.585027",
     "status": "completed"
    },
    "tags": []
   },
   "outputs": [],
   "source": [
    "# Use lazy operations\n",
    "train_lazy = train.lazy()\n",
    "\n",
    "# Compute these once:\n",
    "len_train = train_lazy.select(pl.col(\"date_id\")).collect().shape[0]\n",
    "valid_records = int(len_train * CONFIG.valid_ratio)\n",
    "len_ofl_mdl = len_train - valid_records\n",
    "\n",
    "last_tr_dt = train_lazy.select(pl.col(\"date_id\")).collect().row(len_ofl_mdl)[0]\n",
    "\n",
    "# Now filter with lazy queries, \n",
    "# and select only the columns we need for training and validation at once\n",
    "training_data_lazy = (\n",
    "    train_lazy\n",
    "    .filter(pl.col(\"date_id\") <= last_tr_dt)\n",
    "    .select(CONFIG.feature_cols + [CONFIG.target_col, \"weight\"])\n",
    ")\n",
    "\n",
    "validation_data_lazy = (\n",
    "    train_lazy\n",
    "    .filter(pl.col(\"date_id\") > last_tr_dt)\n",
    "    .select(CONFIG.feature_cols + [CONFIG.target_col, \"weight\"])\n",
    ")"
   ]
  },
  {
   "cell_type": "markdown",
   "id": "c0373486",
   "metadata": {
    "papermill": {
     "duration": 0.006604,
     "end_time": "2024-12-23T14:46:29.671858",
     "exception": false,
     "start_time": "2024-12-23T14:46:29.665254",
     "status": "completed"
    },
    "tags": []
   },
   "source": [
    "Here, we trigger the actual load into memory with `.collect()`. We also explicitly manage large objects and call garbage collection to free up memory."
   ]
  },
  {
   "cell_type": "code",
   "execution_count": 7,
   "id": "83ac5bcf",
   "metadata": {
    "execution": {
     "iopub.execute_input": "2024-12-23T14:46:29.683014Z",
     "iopub.status.busy": "2024-12-23T14:46:29.682146Z",
     "iopub.status.idle": "2024-12-23T14:47:02.658220Z",
     "shell.execute_reply": "2024-12-23T14:47:02.657257Z"
    },
    "papermill": {
     "duration": 32.983111,
     "end_time": "2024-12-23T14:47:02.660348",
     "exception": false,
     "start_time": "2024-12-23T14:46:29.677237",
     "status": "completed"
    },
    "tags": []
   },
   "outputs": [],
   "source": [
    "# Collect once for each split\n",
    "training_data = training_data_lazy.collect()\n",
    "validation_data = validation_data_lazy.collect()"
   ]
  },
  {
   "cell_type": "code",
   "execution_count": 8,
   "id": "9e89b535",
   "metadata": {
    "execution": {
     "iopub.execute_input": "2024-12-23T14:47:02.670882Z",
     "iopub.status.busy": "2024-12-23T14:47:02.670084Z",
     "iopub.status.idle": "2024-12-23T14:47:02.675090Z",
     "shell.execute_reply": "2024-12-23T14:47:02.674453Z"
    },
    "papermill": {
     "duration": 0.011678,
     "end_time": "2024-12-23T14:47:02.676569",
     "exception": false,
     "start_time": "2024-12-23T14:47:02.664891",
     "status": "completed"
    },
    "tags": []
   },
   "outputs": [],
   "source": [
    "def get_model(seed):\n",
    "    # XGBoost parameters\n",
    "    XGB_Params = {\n",
    "        'learning_rate': 0.1,\n",
    "        'max_depth': 6,\n",
    "        'n_estimators': 200,\n",
    "        'subsample': 0.8,\n",
    "        'colsample_bytree': 0.8,\n",
    "        'reg_alpha': 1,\n",
    "        'reg_lambda': 5,\n",
    "        'random_state': seed,\n",
    "        'tree_method': 'gpu_hist',\n",
    "        'device' : 'cuda',\n",
    "        'n_gpus' : 2,\n",
    "        'verbose': True\n",
    "    }\n",
    "    \n",
    "    XGB_Model = XGBRegressor(**XGB_Params)\n",
    "    return XGB_Model"
   ]
  },
  {
   "cell_type": "code",
   "execution_count": 9,
   "id": "d7740c52",
   "metadata": {
    "execution": {
     "iopub.execute_input": "2024-12-23T14:47:02.685478Z",
     "iopub.status.busy": "2024-12-23T14:47:02.685251Z",
     "iopub.status.idle": "2024-12-23T14:47:02.765428Z",
     "shell.execute_reply": "2024-12-23T14:47:02.764675Z"
    },
    "papermill": {
     "duration": 0.086381,
     "end_time": "2024-12-23T14:47:02.767047",
     "exception": false,
     "start_time": "2024-12-23T14:47:02.680666",
     "status": "completed"
    },
    "tags": []
   },
   "outputs": [
    {
     "data": {
      "text/plain": [
       "0"
      ]
     },
     "execution_count": 9,
     "metadata": {},
     "output_type": "execute_result"
    }
   ],
   "source": [
    "del train\n",
    "gc.collect()\n"
   ]
  },
  {
   "cell_type": "markdown",
   "id": "d35cb160",
   "metadata": {
    "papermill": {
     "duration": 0.003985,
     "end_time": "2024-12-23T14:47:02.775410",
     "exception": false,
     "start_time": "2024-12-23T14:47:02.771425",
     "status": "completed"
    },
    "tags": []
   },
   "source": [
    "## **Prepare Numpy Arrays for Model**  \n",
    "We convert Polars dataframes to Numpy arrays for training. This is more memory-efficient than holding onto all columns in dataframes during model training."
   ]
  },
  {
   "cell_type": "code",
   "execution_count": 10,
   "id": "29a0be98",
   "metadata": {
    "execution": {
     "iopub.execute_input": "2024-12-23T14:47:02.785082Z",
     "iopub.status.busy": "2024-12-23T14:47:02.784345Z",
     "iopub.status.idle": "2024-12-23T14:47:06.769033Z",
     "shell.execute_reply": "2024-12-23T14:47:06.768010Z"
    },
    "papermill": {
     "duration": 3.991844,
     "end_time": "2024-12-23T14:47:06.771329",
     "exception": false,
     "start_time": "2024-12-23T14:47:02.779485",
     "status": "completed"
    },
    "tags": []
   },
   "outputs": [],
   "source": [
    "X_train = training_data.select(CONFIG.feature_cols).to_numpy()\n",
    "y_train = training_data.select(CONFIG.target_col).to_numpy().ravel()\n",
    "w_train = training_data.select(\"weight\").to_numpy().ravel()\n",
    "\n",
    "X_valid = validation_data.select(CONFIG.feature_cols).to_numpy()\n",
    "y_valid = validation_data.select(CONFIG.target_col).to_numpy().ravel()\n",
    "w_valid = validation_data.select(\"weight\").to_numpy().ravel()"
   ]
  },
  {
   "cell_type": "code",
   "execution_count": 11,
   "id": "b1d0d00b",
   "metadata": {
    "execution": {
     "iopub.execute_input": "2024-12-23T14:47:06.781162Z",
     "iopub.status.busy": "2024-12-23T14:47:06.780837Z",
     "iopub.status.idle": "2024-12-23T14:47:06.854555Z",
     "shell.execute_reply": "2024-12-23T14:47:06.853737Z"
    },
    "papermill": {
     "duration": 0.080457,
     "end_time": "2024-12-23T14:47:06.856173",
     "exception": false,
     "start_time": "2024-12-23T14:47:06.775716",
     "status": "completed"
    },
    "tags": []
   },
   "outputs": [
    {
     "data": {
      "text/plain": [
       "0"
      ]
     },
     "execution_count": 11,
     "metadata": {},
     "output_type": "execute_result"
    }
   ],
   "source": [
    "gc.collect()"
   ]
  },
  {
   "cell_type": "code",
   "execution_count": 12,
   "id": "3a181d52",
   "metadata": {
    "execution": {
     "iopub.execute_input": "2024-12-23T14:47:06.865920Z",
     "iopub.status.busy": "2024-12-23T14:47:06.865659Z",
     "iopub.status.idle": "2024-12-23T14:51:44.022408Z",
     "shell.execute_reply": "2024-12-23T14:51:44.021582Z"
    },
    "papermill": {
     "duration": 277.168617,
     "end_time": "2024-12-23T14:51:44.029290",
     "exception": false,
     "start_time": "2024-12-23T14:47:06.860673",
     "status": "completed"
    },
    "tags": []
   },
   "outputs": [
    {
     "name": "stdout",
     "output_type": "stream",
     "text": [
      "CPU times: user 11min 20s, sys: 8.18 s, total: 11min 28s\n",
      "Wall time: 4min 37s\n"
     ]
    },
    {
     "data": {
      "text/html": [
       "<style>#sk-container-id-1 {color: black;background-color: white;}#sk-container-id-1 pre{padding: 0;}#sk-container-id-1 div.sk-toggleable {background-color: white;}#sk-container-id-1 label.sk-toggleable__label {cursor: pointer;display: block;width: 100%;margin-bottom: 0;padding: 0.3em;box-sizing: border-box;text-align: center;}#sk-container-id-1 label.sk-toggleable__label-arrow:before {content: \"▸\";float: left;margin-right: 0.25em;color: #696969;}#sk-container-id-1 label.sk-toggleable__label-arrow:hover:before {color: black;}#sk-container-id-1 div.sk-estimator:hover label.sk-toggleable__label-arrow:before {color: black;}#sk-container-id-1 div.sk-toggleable__content {max-height: 0;max-width: 0;overflow: hidden;text-align: left;background-color: #f0f8ff;}#sk-container-id-1 div.sk-toggleable__content pre {margin: 0.2em;color: black;border-radius: 0.25em;background-color: #f0f8ff;}#sk-container-id-1 input.sk-toggleable__control:checked~div.sk-toggleable__content {max-height: 200px;max-width: 100%;overflow: auto;}#sk-container-id-1 input.sk-toggleable__control:checked~label.sk-toggleable__label-arrow:before {content: \"▾\";}#sk-container-id-1 div.sk-estimator input.sk-toggleable__control:checked~label.sk-toggleable__label {background-color: #d4ebff;}#sk-container-id-1 div.sk-label input.sk-toggleable__control:checked~label.sk-toggleable__label {background-color: #d4ebff;}#sk-container-id-1 input.sk-hidden--visually {border: 0;clip: rect(1px 1px 1px 1px);clip: rect(1px, 1px, 1px, 1px);height: 1px;margin: -1px;overflow: hidden;padding: 0;position: absolute;width: 1px;}#sk-container-id-1 div.sk-estimator {font-family: monospace;background-color: #f0f8ff;border: 1px dotted black;border-radius: 0.25em;box-sizing: border-box;margin-bottom: 0.5em;}#sk-container-id-1 div.sk-estimator:hover {background-color: #d4ebff;}#sk-container-id-1 div.sk-parallel-item::after {content: \"\";width: 100%;border-bottom: 1px solid gray;flex-grow: 1;}#sk-container-id-1 div.sk-label:hover label.sk-toggleable__label {background-color: #d4ebff;}#sk-container-id-1 div.sk-serial::before {content: \"\";position: absolute;border-left: 1px solid gray;box-sizing: border-box;top: 0;bottom: 0;left: 50%;z-index: 0;}#sk-container-id-1 div.sk-serial {display: flex;flex-direction: column;align-items: center;background-color: white;padding-right: 0.2em;padding-left: 0.2em;position: relative;}#sk-container-id-1 div.sk-item {position: relative;z-index: 1;}#sk-container-id-1 div.sk-parallel {display: flex;align-items: stretch;justify-content: center;background-color: white;position: relative;}#sk-container-id-1 div.sk-item::before, #sk-container-id-1 div.sk-parallel-item::before {content: \"\";position: absolute;border-left: 1px solid gray;box-sizing: border-box;top: 0;bottom: 0;left: 50%;z-index: -1;}#sk-container-id-1 div.sk-parallel-item {display: flex;flex-direction: column;z-index: 1;position: relative;background-color: white;}#sk-container-id-1 div.sk-parallel-item:first-child::after {align-self: flex-end;width: 50%;}#sk-container-id-1 div.sk-parallel-item:last-child::after {align-self: flex-start;width: 50%;}#sk-container-id-1 div.sk-parallel-item:only-child::after {width: 0;}#sk-container-id-1 div.sk-dashed-wrapped {border: 1px dashed gray;margin: 0 0.4em 0.5em 0.4em;box-sizing: border-box;padding-bottom: 0.4em;background-color: white;}#sk-container-id-1 div.sk-label label {font-family: monospace;font-weight: bold;display: inline-block;line-height: 1.2em;}#sk-container-id-1 div.sk-label-container {text-align: center;}#sk-container-id-1 div.sk-container {/* jupyter's `normalize.less` sets `[hidden] { display: none; }` but bootstrap.min.css set `[hidden] { display: none !important; }` so we also need the `!important` here to be able to override the default hidden behavior on the sphinx rendered scikit-learn.org. See: https://github.com/scikit-learn/scikit-learn/issues/21755 */display: inline-block !important;position: relative;}#sk-container-id-1 div.sk-text-repr-fallback {display: none;}</style><div id=\"sk-container-id-1\" class=\"sk-top-container\"><div class=\"sk-text-repr-fallback\"><pre>XGBRegressor(base_score=None, booster=None, callbacks=None,\n",
       "             colsample_bylevel=None, colsample_bynode=None,\n",
       "             colsample_bytree=0.8, device=&#x27;cuda&#x27;, early_stopping_rounds=None,\n",
       "             enable_categorical=False, eval_metric=None, feature_types=None,\n",
       "             gamma=None, grow_policy=None, importance_type=None,\n",
       "             interaction_constraints=None, learning_rate=0.1, max_bin=None,\n",
       "             max_cat_threshold=None, max_cat_to_onehot=None,\n",
       "             max_delta_step=None, max_depth=6, max_leaves=None,\n",
       "             min_child_weight=None, missing=nan, monotone_constraints=None,\n",
       "             multi_strategy=None, n_estimators=200, n_gpus=2, n_jobs=None,\n",
       "             num_parallel_tree=None, ...)</pre><b>In a Jupyter environment, please rerun this cell to show the HTML representation or trust the notebook. <br />On GitHub, the HTML representation is unable to render, please try loading this page with nbviewer.org.</b></div><div class=\"sk-container\" hidden><div class=\"sk-item\"><div class=\"sk-estimator sk-toggleable\"><input class=\"sk-toggleable__control sk-hidden--visually\" id=\"sk-estimator-id-1\" type=\"checkbox\" checked><label for=\"sk-estimator-id-1\" class=\"sk-toggleable__label sk-toggleable__label-arrow\">XGBRegressor</label><div class=\"sk-toggleable__content\"><pre>XGBRegressor(base_score=None, booster=None, callbacks=None,\n",
       "             colsample_bylevel=None, colsample_bynode=None,\n",
       "             colsample_bytree=0.8, device=&#x27;cuda&#x27;, early_stopping_rounds=None,\n",
       "             enable_categorical=False, eval_metric=None, feature_types=None,\n",
       "             gamma=None, grow_policy=None, importance_type=None,\n",
       "             interaction_constraints=None, learning_rate=0.1, max_bin=None,\n",
       "             max_cat_threshold=None, max_cat_to_onehot=None,\n",
       "             max_delta_step=None, max_depth=6, max_leaves=None,\n",
       "             min_child_weight=None, missing=nan, monotone_constraints=None,\n",
       "             multi_strategy=None, n_estimators=200, n_gpus=2, n_jobs=None,\n",
       "             num_parallel_tree=None, ...)</pre></div></div></div></div></div>"
      ],
      "text/plain": [
       "XGBRegressor(base_score=None, booster=None, callbacks=None,\n",
       "             colsample_bylevel=None, colsample_bynode=None,\n",
       "             colsample_bytree=0.8, device='cuda', early_stopping_rounds=None,\n",
       "             enable_categorical=False, eval_metric=None, feature_types=None,\n",
       "             gamma=None, grow_policy=None, importance_type=None,\n",
       "             interaction_constraints=None, learning_rate=0.1, max_bin=None,\n",
       "             max_cat_threshold=None, max_cat_to_onehot=None,\n",
       "             max_delta_step=None, max_depth=6, max_leaves=None,\n",
       "             min_child_weight=None, missing=nan, monotone_constraints=None,\n",
       "             multi_strategy=None, n_estimators=200, n_gpus=2, n_jobs=None,\n",
       "             num_parallel_tree=None, ...)"
      ]
     },
     "execution_count": 12,
     "metadata": {},
     "output_type": "execute_result"
    }
   ],
   "source": [
    "%%time\n",
    "model = get_model(CONFIG.seed)\n",
    "model.fit( X_train, y_train, sample_weight=w_train)"
   ]
  },
  {
   "cell_type": "markdown",
   "id": "edf80625",
   "metadata": {
    "papermill": {
     "duration": 0.004211,
     "end_time": "2024-12-23T14:51:44.037913",
     "exception": false,
     "start_time": "2024-12-23T14:51:44.033702",
     "status": "completed"
    },
    "tags": []
   },
   "source": [
    "## **Chunked Predictions**  \n",
    "When working with large datasets, predicting all at once can cause memory spikes. To address this, we split the dataset into halves (or other manageable chunks) for inference."
   ]
  },
  {
   "cell_type": "code",
   "execution_count": 13,
   "id": "750eb2a1",
   "metadata": {
    "execution": {
     "iopub.execute_input": "2024-12-23T14:51:44.048011Z",
     "iopub.status.busy": "2024-12-23T14:51:44.047337Z",
     "iopub.status.idle": "2024-12-23T14:52:18.832688Z",
     "shell.execute_reply": "2024-12-23T14:52:18.831882Z"
    },
    "papermill": {
     "duration": 34.797587,
     "end_time": "2024-12-23T14:52:18.839704",
     "exception": false,
     "start_time": "2024-12-23T14:51:44.042117",
     "status": "completed"
    },
    "tags": []
   },
   "outputs": [
    {
     "data": {
      "text/plain": [
       "0.05118821176711785"
      ]
     },
     "execution_count": 13,
     "metadata": {},
     "output_type": "execute_result"
    }
   ],
   "source": [
    "# Assuming X_train, y_train, w_train are all NumPy arrays\n",
    "half = X_train.shape[0] // 2\n",
    "\n",
    "# Predict on the first half of X_train\n",
    "y_pred_train1 = model.predict(X_train[:half])\n",
    "\n",
    "# Predict on the second half of X_train\n",
    "y_pred_train2 = model.predict(X_train[half:])\n",
    "\n",
    "# Concatenate predictions\n",
    "y_pred_train = np.concatenate([y_pred_train1, y_pred_train2], axis=0)\n",
    "\n",
    "# Compute R² score with sample_weight\n",
    "train_score = r2_score(y_train, y_pred_train, sample_weight=w_train)\n",
    "train_score"
   ]
  },
  {
   "cell_type": "code",
   "execution_count": 14,
   "id": "42c8f6c7",
   "metadata": {
    "execution": {
     "iopub.execute_input": "2024-12-23T14:52:18.850065Z",
     "iopub.status.busy": "2024-12-23T14:52:18.849426Z",
     "iopub.status.idle": "2024-12-23T14:52:20.579343Z",
     "shell.execute_reply": "2024-12-23T14:52:20.578360Z"
    },
    "papermill": {
     "duration": 1.737231,
     "end_time": "2024-12-23T14:52:20.581378",
     "exception": false,
     "start_time": "2024-12-23T14:52:18.844147",
     "status": "completed"
    },
    "tags": []
   },
   "outputs": [
    {
     "name": "stdout",
     "output_type": "stream",
     "text": [
      "R² score on the validation set: 0.004936436333746519\n"
     ]
    }
   ],
   "source": [
    "# If you have a validation set, you can also compute R² on the validation set\n",
    "y_pred_valid = model.predict(X_valid)\n",
    "r2_valid = r2_score(y_valid, y_pred_valid)\n",
    "print(\"R² score on the validation set:\", r2_valid)"
   ]
  },
  {
   "cell_type": "code",
   "execution_count": 15,
   "id": "7c7439df",
   "metadata": {
    "execution": {
     "iopub.execute_input": "2024-12-23T14:52:20.592385Z",
     "iopub.status.busy": "2024-12-23T14:52:20.592103Z",
     "iopub.status.idle": "2024-12-23T14:52:22.181573Z",
     "shell.execute_reply": "2024-12-23T14:52:22.180330Z"
    },
    "papermill": {
     "duration": 1.597193,
     "end_time": "2024-12-23T14:52:22.183847",
     "exception": false,
     "start_time": "2024-12-23T14:52:20.586654",
     "status": "completed"
    },
    "tags": []
   },
   "outputs": [],
   "source": [
    "!mkdir -p /kaggle/working/jane-street/"
   ]
  },
  {
   "cell_type": "markdown",
   "id": "993231d0",
   "metadata": {
    "papermill": {
     "duration": 0.004396,
     "end_time": "2024-12-23T14:52:22.193071",
     "exception": false,
     "start_time": "2024-12-23T14:52:22.188675",
     "status": "completed"
    },
    "tags": []
   },
   "source": [
    "## **Exporting the Model**  \n",
    "Finally, we save the model as a pickle file for later inference."
   ]
  },
  {
   "cell_type": "code",
   "execution_count": 16,
   "id": "922b19b7",
   "metadata": {
    "execution": {
     "iopub.execute_input": "2024-12-23T14:52:22.203521Z",
     "iopub.status.busy": "2024-12-23T14:52:22.203195Z",
     "iopub.status.idle": "2024-12-23T14:52:22.214098Z",
     "shell.execute_reply": "2024-12-23T14:52:22.213499Z"
    },
    "papermill": {
     "duration": 0.018546,
     "end_time": "2024-12-23T14:52:22.216030",
     "exception": false,
     "start_time": "2024-12-23T14:52:22.197484",
     "status": "completed"
    },
    "tags": []
   },
   "outputs": [],
   "source": [
    "import pickle\n",
    "\n",
    "pkl_path = '/kaggle/working/jane-street/xgb_boost.pkl'\n",
    " \n",
    "with open(pkl_path, 'wb') as file:  \n",
    "    pickle.dump(model, file)\n"
   ]
  }
 ],
 "metadata": {
  "kaggle": {
   "accelerator": "gpu",
   "dataSources": [
    {
     "databundleVersionId": 9871156,
     "sourceId": 84493,
     "sourceType": "competition"
    }
   ],
   "dockerImageVersionId": 30787,
   "isGpuEnabled": true,
   "isInternetEnabled": false,
   "language": "python",
   "sourceType": "notebook"
  },
  "kernelspec": {
   "display_name": "Python 3",
   "language": "python",
   "name": "python3"
  },
  "language_info": {
   "codemirror_mode": {
    "name": "ipython",
    "version": 3
   },
   "file_extension": ".py",
   "mimetype": "text/x-python",
   "name": "python",
   "nbconvert_exporter": "python",
   "pygments_lexer": "ipython3",
   "version": "3.10.14"
  },
  "papermill": {
   "default_parameters": {},
   "duration": 363.902083,
   "end_time": "2024-12-23T14:52:25.266370",
   "environment_variables": {},
   "exception": null,
   "input_path": "__notebook__.ipynb",
   "output_path": "__notebook__.ipynb",
   "parameters": {},
   "start_time": "2024-12-23T14:46:21.364287",
   "version": "2.6.0"
  }
 },
 "nbformat": 4,
 "nbformat_minor": 5
}
